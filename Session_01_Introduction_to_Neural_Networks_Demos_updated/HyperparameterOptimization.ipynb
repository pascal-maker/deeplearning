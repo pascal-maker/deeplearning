{
 "cells": [
  {
   "cell_type": "code",
   "execution_count": 1,
   "metadata": {},
   "outputs": [
    {
     "name": "stdout",
     "output_type": "stream",
     "text": [
      "Requirement already satisfied: scikit-optimize in /opt/anaconda3/lib/python3.12/site-packages (0.10.2)\n",
      "Requirement already satisfied: joblib>=0.11 in /opt/anaconda3/lib/python3.12/site-packages (from scikit-optimize) (1.4.2)\n",
      "Requirement already satisfied: pyaml>=16.9 in /opt/anaconda3/lib/python3.12/site-packages (from scikit-optimize) (25.7.0)\n",
      "Requirement already satisfied: numpy>=1.20.3 in /opt/anaconda3/lib/python3.12/site-packages (from scikit-optimize) (1.26.4)\n",
      "Requirement already satisfied: scipy>=1.1.0 in /opt/anaconda3/lib/python3.12/site-packages (from scikit-optimize) (1.15.3)\n",
      "Requirement already satisfied: scikit-learn>=1.0.0 in /opt/anaconda3/lib/python3.12/site-packages (from scikit-optimize) (1.7.2)\n",
      "Requirement already satisfied: packaging>=21.3 in /opt/anaconda3/lib/python3.12/site-packages (from scikit-optimize) (24.2)\n",
      "Requirement already satisfied: PyYAML in /opt/anaconda3/lib/python3.12/site-packages (from pyaml>=16.9->scikit-optimize) (6.0.2)\n",
      "Requirement already satisfied: threadpoolctl>=3.1.0 in /opt/anaconda3/lib/python3.12/site-packages (from scikit-learn>=1.0.0->scikit-optimize) (3.5.0)\n",
      "\n",
      "\u001b[1m[\u001b[0m\u001b[34;49mnotice\u001b[0m\u001b[1;39;49m]\u001b[0m\u001b[39;49m A new release of pip is available: \u001b[0m\u001b[31;49m25.1.1\u001b[0m\u001b[39;49m -> \u001b[0m\u001b[32;49m25.2\u001b[0m\n",
      "\u001b[1m[\u001b[0m\u001b[34;49mnotice\u001b[0m\u001b[1;39;49m]\u001b[0m\u001b[39;49m To update, run: \u001b[0m\u001b[32;49mpip install --upgrade pip\u001b[0m\n"
     ]
    }
   ],
   "source": [
    "!pip3 install scikit-optimize\n",
    "%matplotlib inline\n",
    "\n",
    "import os\n",
    "\n",
    "import numpy as np\n",
    "import matplotlib.pyplot as plt\n",
    "import pandas as pd\n",
    "import seaborn as sns\n",
    "from sklearn import linear_model, datasets\n",
    "from sklearn.model_selection import train_test_split\n",
    "from sklearn.metrics import classification_report\n",
    "from sklearn.metrics import confusion_matrix, accuracy_score\n",
    "from sklearn.model_selection import GridSearchCV\n",
    "from sklearn.model_selection import RandomizedSearchCV\n",
    "\n",
    "# distributions\n",
    "from scipy.stats import randint \n",
    "from scipy.stats import uniform\n",
    "\n",
    "#Bayessearch cv uit Scikit-optimize\n",
    "from skopt import BayesSearchCV\n",
    "\n",
    "\n",
    "from sklearn.svm import SVC\n",
    "from sklearn.preprocessing import PolynomialFeatures\n",
    "from sklearn.preprocessing import StandardScaler\n",
    "from sklearn.preprocessing import RobustScaler\n",
    "# Import Keras libraries\n",
    "\n",
    "# Import Tensorflow libraries\n",
    "import keras\n",
    "from keras.models import Sequential\n",
    "from keras.layers import Activation\n",
    "from keras.optimizers import SGD\n",
    "from keras.layers import Dense\n",
    "from keras.layers import Dropout\n",
    "from keras.layers import BatchNormalization\n",
    "from keras.layers import MaxPooling2D\n",
    "from keras import backend as K\n",
    "from keras.utils import to_categorical"
   ]
  },
  {
   "cell_type": "code",
   "execution_count": 2,
   "metadata": {},
   "outputs": [
    {
     "data": {
      "text/html": [
       "<div>\n",
       "<style scoped>\n",
       "    .dataframe tbody tr th:only-of-type {\n",
       "        vertical-align: middle;\n",
       "    }\n",
       "\n",
       "    .dataframe tbody tr th {\n",
       "        vertical-align: top;\n",
       "    }\n",
       "\n",
       "    .dataframe thead th {\n",
       "        text-align: right;\n",
       "    }\n",
       "</style>\n",
       "<table border=\"1\" class=\"dataframe\">\n",
       "  <thead>\n",
       "    <tr style=\"text-align: right;\">\n",
       "      <th></th>\n",
       "      <th>id</th>\n",
       "      <th>diagnosis</th>\n",
       "      <th>radius_mean</th>\n",
       "      <th>texture_mean</th>\n",
       "      <th>perimeter_mean</th>\n",
       "      <th>area_mean</th>\n",
       "      <th>smoothness_mean</th>\n",
       "      <th>compactness_mean</th>\n",
       "      <th>concavity_mean</th>\n",
       "      <th>concave points_mean</th>\n",
       "      <th>...</th>\n",
       "      <th>texture_worst</th>\n",
       "      <th>perimeter_worst</th>\n",
       "      <th>area_worst</th>\n",
       "      <th>smoothness_worst</th>\n",
       "      <th>compactness_worst</th>\n",
       "      <th>concavity_worst</th>\n",
       "      <th>concave points_worst</th>\n",
       "      <th>symmetry_worst</th>\n",
       "      <th>fractal_dimension_worst</th>\n",
       "      <th>Unnamed: 32</th>\n",
       "    </tr>\n",
       "  </thead>\n",
       "  <tbody>\n",
       "    <tr>\n",
       "      <th>0</th>\n",
       "      <td>842302</td>\n",
       "      <td>M</td>\n",
       "      <td>17.99</td>\n",
       "      <td>10.38</td>\n",
       "      <td>122.80</td>\n",
       "      <td>1001.0</td>\n",
       "      <td>0.11840</td>\n",
       "      <td>0.27760</td>\n",
       "      <td>0.3001</td>\n",
       "      <td>0.14710</td>\n",
       "      <td>...</td>\n",
       "      <td>17.33</td>\n",
       "      <td>184.60</td>\n",
       "      <td>2019.0</td>\n",
       "      <td>0.1622</td>\n",
       "      <td>0.6656</td>\n",
       "      <td>0.7119</td>\n",
       "      <td>0.2654</td>\n",
       "      <td>0.4601</td>\n",
       "      <td>0.11890</td>\n",
       "      <td>NaN</td>\n",
       "    </tr>\n",
       "    <tr>\n",
       "      <th>1</th>\n",
       "      <td>842517</td>\n",
       "      <td>M</td>\n",
       "      <td>20.57</td>\n",
       "      <td>17.77</td>\n",
       "      <td>132.90</td>\n",
       "      <td>1326.0</td>\n",
       "      <td>0.08474</td>\n",
       "      <td>0.07864</td>\n",
       "      <td>0.0869</td>\n",
       "      <td>0.07017</td>\n",
       "      <td>...</td>\n",
       "      <td>23.41</td>\n",
       "      <td>158.80</td>\n",
       "      <td>1956.0</td>\n",
       "      <td>0.1238</td>\n",
       "      <td>0.1866</td>\n",
       "      <td>0.2416</td>\n",
       "      <td>0.1860</td>\n",
       "      <td>0.2750</td>\n",
       "      <td>0.08902</td>\n",
       "      <td>NaN</td>\n",
       "    </tr>\n",
       "    <tr>\n",
       "      <th>2</th>\n",
       "      <td>84300903</td>\n",
       "      <td>M</td>\n",
       "      <td>19.69</td>\n",
       "      <td>21.25</td>\n",
       "      <td>130.00</td>\n",
       "      <td>1203.0</td>\n",
       "      <td>0.10960</td>\n",
       "      <td>0.15990</td>\n",
       "      <td>0.1974</td>\n",
       "      <td>0.12790</td>\n",
       "      <td>...</td>\n",
       "      <td>25.53</td>\n",
       "      <td>152.50</td>\n",
       "      <td>1709.0</td>\n",
       "      <td>0.1444</td>\n",
       "      <td>0.4245</td>\n",
       "      <td>0.4504</td>\n",
       "      <td>0.2430</td>\n",
       "      <td>0.3613</td>\n",
       "      <td>0.08758</td>\n",
       "      <td>NaN</td>\n",
       "    </tr>\n",
       "    <tr>\n",
       "      <th>3</th>\n",
       "      <td>84348301</td>\n",
       "      <td>M</td>\n",
       "      <td>11.42</td>\n",
       "      <td>20.38</td>\n",
       "      <td>77.58</td>\n",
       "      <td>386.1</td>\n",
       "      <td>0.14250</td>\n",
       "      <td>0.28390</td>\n",
       "      <td>0.2414</td>\n",
       "      <td>0.10520</td>\n",
       "      <td>...</td>\n",
       "      <td>26.50</td>\n",
       "      <td>98.87</td>\n",
       "      <td>567.7</td>\n",
       "      <td>0.2098</td>\n",
       "      <td>0.8663</td>\n",
       "      <td>0.6869</td>\n",
       "      <td>0.2575</td>\n",
       "      <td>0.6638</td>\n",
       "      <td>0.17300</td>\n",
       "      <td>NaN</td>\n",
       "    </tr>\n",
       "    <tr>\n",
       "      <th>4</th>\n",
       "      <td>84358402</td>\n",
       "      <td>M</td>\n",
       "      <td>20.29</td>\n",
       "      <td>14.34</td>\n",
       "      <td>135.10</td>\n",
       "      <td>1297.0</td>\n",
       "      <td>0.10030</td>\n",
       "      <td>0.13280</td>\n",
       "      <td>0.1980</td>\n",
       "      <td>0.10430</td>\n",
       "      <td>...</td>\n",
       "      <td>16.67</td>\n",
       "      <td>152.20</td>\n",
       "      <td>1575.0</td>\n",
       "      <td>0.1374</td>\n",
       "      <td>0.2050</td>\n",
       "      <td>0.4000</td>\n",
       "      <td>0.1625</td>\n",
       "      <td>0.2364</td>\n",
       "      <td>0.07678</td>\n",
       "      <td>NaN</td>\n",
       "    </tr>\n",
       "  </tbody>\n",
       "</table>\n",
       "<p>5 rows × 33 columns</p>\n",
       "</div>"
      ],
      "text/plain": [
       "         id diagnosis  radius_mean  texture_mean  perimeter_mean  area_mean  \\\n",
       "0    842302         M        17.99         10.38          122.80     1001.0   \n",
       "1    842517         M        20.57         17.77          132.90     1326.0   \n",
       "2  84300903         M        19.69         21.25          130.00     1203.0   \n",
       "3  84348301         M        11.42         20.38           77.58      386.1   \n",
       "4  84358402         M        20.29         14.34          135.10     1297.0   \n",
       "\n",
       "   smoothness_mean  compactness_mean  concavity_mean  concave points_mean  \\\n",
       "0          0.11840           0.27760          0.3001              0.14710   \n",
       "1          0.08474           0.07864          0.0869              0.07017   \n",
       "2          0.10960           0.15990          0.1974              0.12790   \n",
       "3          0.14250           0.28390          0.2414              0.10520   \n",
       "4          0.10030           0.13280          0.1980              0.10430   \n",
       "\n",
       "   ...  texture_worst  perimeter_worst  area_worst  smoothness_worst  \\\n",
       "0  ...          17.33           184.60      2019.0            0.1622   \n",
       "1  ...          23.41           158.80      1956.0            0.1238   \n",
       "2  ...          25.53           152.50      1709.0            0.1444   \n",
       "3  ...          26.50            98.87       567.7            0.2098   \n",
       "4  ...          16.67           152.20      1575.0            0.1374   \n",
       "\n",
       "   compactness_worst  concavity_worst  concave points_worst  symmetry_worst  \\\n",
       "0             0.6656           0.7119                0.2654          0.4601   \n",
       "1             0.1866           0.2416                0.1860          0.2750   \n",
       "2             0.4245           0.4504                0.2430          0.3613   \n",
       "3             0.8663           0.6869                0.2575          0.6638   \n",
       "4             0.2050           0.4000                0.1625          0.2364   \n",
       "\n",
       "   fractal_dimension_worst  Unnamed: 32  \n",
       "0                  0.11890          NaN  \n",
       "1                  0.08902          NaN  \n",
       "2                  0.08758          NaN  \n",
       "3                  0.17300          NaN  \n",
       "4                  0.07678          NaN  \n",
       "\n",
       "[5 rows x 33 columns]"
      ]
     },
     "execution_count": 2,
     "metadata": {},
     "output_type": "execute_result"
    }
   ],
   "source": [
    "# Import dataset\n",
    "dataset = pd.read_csv('cancer.csv')\n",
    "dataset.head()"
   ]
  },
  {
   "cell_type": "code",
   "execution_count": 3,
   "metadata": {},
   "outputs": [
    {
     "name": "stderr",
     "output_type": "stream",
     "text": [
      "/var/folders/0r/s3s7wy7x0z33qbtj01kxq24w0000gn/T/ipykernel_63094/867236065.py:8: FutureWarning: A value is trying to be set on a copy of a DataFrame or Series through chained assignment using an inplace method.\n",
      "The behavior will change in pandas 3.0. This inplace method will never work because the intermediate object on which we are setting values always behaves as a copy.\n",
      "\n",
      "For example, when doing 'df[col].method(value, inplace=True)', try using 'df.method({col: value}, inplace=True)' or df[col] = df[col].method(value) instead, to perform the operation inplace on the original object.\n",
      "\n",
      "\n",
      "  dataset.diagnosis.replace(['M', 'B'], [1, 0], inplace=True)\n",
      "/var/folders/0r/s3s7wy7x0z33qbtj01kxq24w0000gn/T/ipykernel_63094/867236065.py:8: FutureWarning: Downcasting behavior in `replace` is deprecated and will be removed in a future version. To retain the old behavior, explicitly call `result.infer_objects(copy=False)`. To opt-in to the future behavior, set `pd.set_option('future.no_silent_downcasting', True)`\n",
      "  dataset.diagnosis.replace(['M', 'B'], [1, 0], inplace=True)\n"
     ]
    }
   ],
   "source": [
    "# Data preprocessing\n",
    "dataset.drop('id',axis=1, inplace=True)\n",
    "\n",
    "# Remove right column (unnamed)\n",
    "dataset.drop(dataset.columns[31],axis=1,inplace=True)\n",
    "\n",
    "# diagnosis labels M -> 1 and B -> 0\n",
    "dataset.diagnosis.replace(['M', 'B'], [1, 0], inplace=True)"
   ]
  },
  {
   "cell_type": "code",
   "execution_count": 4,
   "metadata": {},
   "outputs": [],
   "source": [
    "# Split dataset up in features and targets\n",
    "y = dataset.diagnosis\n",
    "X = dataset.drop('diagnosis',axis=1)"
   ]
  },
  {
   "cell_type": "code",
   "execution_count": 5,
   "metadata": {},
   "outputs": [],
   "source": [
    "# Create training set and test set\n",
    "X_train, X_test, y_train, y_test = train_test_split(X, y, test_size = 0.25, random_state =0)\n",
    "\n",
    "# feature normalization\n",
    "# via robustscaler: This Scaler removes the median and scales the data according to the quantile range \n",
    "\n",
    "Rscaler = RobustScaler()\n",
    "Rscaler.fit(X_train)\n",
    "\n",
    "X_train = Rscaler.transform(X_train)\n",
    "X_test = Rscaler. transform(X_test)\n"
   ]
  },
  {
   "cell_type": "code",
   "execution_count": 6,
   "metadata": {},
   "outputs": [
    {
     "name": "stdout",
     "output_type": "stream",
     "text": [
      "Fitting 4 folds for each of 22 candidates, totalling 88 fits\n",
      "[CV 1/4] END ..............C=1.0, kernel=linear;, score=0.991 total time=   0.0s\n",
      "[CV 2/4] END ..............C=1.0, kernel=linear;, score=0.963 total time=   0.0s\n",
      "[CV 3/4] END ..............C=1.0, kernel=linear;, score=0.991 total time=   0.0s\n",
      "[CV 4/4] END ..............C=1.0, kernel=linear;, score=1.000 total time=   0.0s\n",
      "[CV 1/4] END C=7.333333333333334, kernel=linear;, score=0.981 total time=   0.0s\n",
      "[CV 2/4] END C=7.333333333333334, kernel=linear;, score=0.935 total time=   0.0s\n",
      "[CV 3/4] END C=7.333333333333334, kernel=linear;, score=0.953 total time=   0.0s\n",
      "[CV 4/4] END C=7.333333333333334, kernel=linear;, score=0.981 total time=   0.0s\n",
      "[CV 1/4] END C=9.444444444444445, kernel=linear;, score=0.981 total time=   0.0s\n",
      "[CV 2/4] END C=9.444444444444445, kernel=linear;, score=0.935 total time=   0.0s\n",
      "[CV 4/4] END C=3.111111111111111, kernel=linear;, score=0.991 total time=   0.0s\n",
      "[CV 3/4] END C=9.444444444444445, kernel=linear;, score=0.953 total time=   0.0s\n",
      "[CV 4/4] END C=9.444444444444445, kernel=linear;, score=0.981 total time=   0.0s\n",
      "[CV 2/4] END C=11.555555555555555, kernel=linear;, score=0.935 total time=   0.0s\n",
      "[CV 1/4] END C=11.555555555555555, kernel=linear;, score=0.981 total time=   0.0s\n",
      "[CV 4/4] END C=11.555555555555555, kernel=linear;, score=0.981 total time=   0.0s\n",
      "[CV 3/4] END C=11.555555555555555, kernel=linear;, score=0.953 total time=   0.0s\n",
      "[CV 1/4] END C=13.666666666666668, kernel=linear;, score=0.972 total time=   0.0s\n",
      "[CV 2/4] END C=13.666666666666668, kernel=linear;, score=0.935 total time=   0.0s\n",
      "[CV 3/4] END C=13.666666666666668, kernel=linear;, score=0.953 total time=   0.0s\n",
      "[CV 4/4] END C=13.666666666666668, kernel=linear;, score=0.981 total time=   0.0s\n",
      "[CV 2/4] END C=15.777777777777779, kernel=linear;, score=0.944 total time=   0.0s\n",
      "[CV 1/4] END C=15.777777777777779, kernel=linear;, score=0.963 total time=   0.0s\n",
      "[CV 4/4] END C=15.777777777777779, kernel=linear;, score=0.981 total time=   0.0s\n",
      "[CV 3/4] END C=15.777777777777779, kernel=linear;, score=0.953 total time=   0.0s\n",
      "[CV 1/4] END C=17.88888888888889, kernel=linear;, score=0.963 total time=   0.0s\n",
      "[CV 2/4] END C=17.88888888888889, kernel=linear;, score=0.944 total time=   0.0s\n",
      "[CV 3/4] END C=17.88888888888889, kernel=linear;, score=0.943 total time=   0.0s\n",
      "[CV 1/4] END .............C=20.0, kernel=linear;, score=0.963 total time=   0.0s\n",
      "[CV 2/4] END .............C=20.0, kernel=linear;, score=0.944 total time=   0.0s\n",
      "[CV 4/4] END C=17.88888888888889, kernel=linear;, score=0.981 total time=   0.0s\n",
      "[CV 3/4] END .............C=20.0, kernel=linear;, score=0.943 total time=   0.0s\n",
      "[CV 4/4] END .............C=20.0, kernel=linear;, score=0.981 total time=   0.0s\n",
      "[CV 1/4] END .....C=1, gamma=0.0001, kernel=rbf;, score=0.673 total time=   0.0s\n",
      "[CV 2/4] END .....C=1, gamma=0.0001, kernel=rbf;, score=0.645 total time=   0.0s\n",
      "[CV 2/4] END C=3.111111111111111, kernel=linear;, score=0.935 total time=   0.0s\n",
      "[CV 4/4] END .....C=1, gamma=0.0001, kernel=rbf;, score=0.698 total time=   0.0s\n",
      "[CV 1/4] END ......C=1, gamma=0.001, kernel=rbf;, score=0.935 total time=   0.0s\n",
      "[CV 1/4] END C=3.111111111111111, kernel=linear;, score=0.991 total time=   0.0s\n",
      "[CV 3/4] END .....C=1, gamma=0.0001, kernel=rbf;, score=0.660 total time=   0.0s\n",
      "[CV 3/4] END ......C=1, gamma=0.001, kernel=rbf;, score=0.934 total time=   0.0s\n",
      "[CV 2/4] END ......C=1, gamma=0.001, kernel=rbf;, score=0.925 total time=   0.0s\n",
      "[CV 4/4] END ......C=1, gamma=0.001, kernel=rbf;, score=0.962 total time=   0.0s\n",
      "[CV 1/4] END .......C=1, gamma=0.01, kernel=rbf;, score=0.981 total time=   0.0s\n",
      "[CV 2/4] END .......C=1, gamma=0.01, kernel=rbf;, score=0.953 total time=   0.0s\n",
      "[CV 3/4] END .......C=1, gamma=0.01, kernel=rbf;, score=0.962 total time=   0.0s\n",
      "[CV 4/4] END .......C=1, gamma=0.01, kernel=rbf;, score=0.991 total time=   0.0s\n",
      "[CV 2/4] END ........C=1, gamma=0.1, kernel=rbf;, score=0.935 total time=   0.0s\n",
      "[CV 1/4] END ........C=1, gamma=0.1, kernel=rbf;, score=0.981 total time=   0.0s\n",
      "[CV 3/4] END ........C=1, gamma=0.1, kernel=rbf;, score=0.962 total time=   0.0s\n",
      "[CV 4/4] END ........C=1, gamma=0.1, kernel=rbf;, score=0.962 total time=   0.0s\n",
      "[CV 1/4] END ........C=1, gamma=0.2, kernel=rbf;, score=0.963 total time=   0.0s\n",
      "[CV 4/4] END ........C=1, gamma=0.2, kernel=rbf;, score=0.934 total time=   0.0s\n",
      "[CV 3/4] END ........C=1, gamma=0.2, kernel=rbf;, score=0.943 total time=   0.0s\n",
      "[CV 2/4] END ........C=1, gamma=0.2, kernel=rbf;, score=0.888 total time=   0.0s\n",
      "[CV 1/4] END ....C=10, gamma=0.0001, kernel=rbf;, score=0.935 total time=   0.0s\n",
      "[CV 1/4] END .....C=10, gamma=0.001, kernel=rbf;, score=0.981 total time=   0.0s\n",
      "[CV 3/4] END ....C=10, gamma=0.0001, kernel=rbf;, score=0.934 total time=   0.0s\n",
      "[CV 2/4] END .....C=10, gamma=0.001, kernel=rbf;, score=0.953 total time=   0.0s\n",
      "[CV 2/4] END ....C=10, gamma=0.0001, kernel=rbf;, score=0.925 total time=   0.0s\n",
      "[CV 4/4] END ....C=10, gamma=0.0001, kernel=rbf;, score=0.962 total time=   0.0s\n",
      "[CV 1/4] END ......C=10, gamma=0.01, kernel=rbf;, score=0.991 total time=   0.0s\n",
      "[CV 3/4] END .....C=10, gamma=0.001, kernel=rbf;, score=0.972 total time=   0.0s\n",
      "[CV 2/4] END ......C=10, gamma=0.01, kernel=rbf;, score=0.953 total time=   0.0s\n",
      "[CV 3/4] END ......C=10, gamma=0.01, kernel=rbf;, score=0.991 total time=   0.0s\n",
      "[CV 4/4] END .....C=10, gamma=0.001, kernel=rbf;, score=0.991 total time=   0.0s\n",
      "[CV 4/4] END ......C=10, gamma=0.01, kernel=rbf;, score=1.000 total time=   0.0s\n",
      "[CV 1/4] END .......C=10, gamma=0.1, kernel=rbf;, score=0.981 total time=   0.0s\n",
      "[CV 3/4] END .......C=10, gamma=0.1, kernel=rbf;, score=0.953 total time=   0.0s\n",
      "[CV 2/4] END .......C=10, gamma=0.1, kernel=rbf;, score=0.935 total time=   0.0s\n",
      "[CV 1/4] END ..................C=1, kernel=poly;, score=0.897 total time=   0.0s\n",
      "[CV 4/4] END .......C=10, gamma=0.1, kernel=rbf;, score=0.962 total time=   0.0s\n",
      "[CV 3/4] END ..................C=1, kernel=poly;, score=0.887 total time=   0.0s\n",
      "[CV 3/4] END .......C=10, gamma=0.2, kernel=rbf;, score=0.925 total time=   0.0s\n",
      "[CV 1/4] END .......C=10, gamma=0.2, kernel=rbf;, score=0.953 total time=   0.0s\n",
      "[CV 2/4] END ..................C=1, kernel=poly;, score=0.897 total time=   0.0s\n",
      "[CV 1/4] END .................C=10, kernel=poly;, score=0.944 total time=   0.0s\n",
      "[CV 2/4] END .................C=10, kernel=poly;, score=0.935 total time=   0.0s\n",
      "[CV 4/4] END ..................C=1, kernel=poly;, score=0.925 total time=   0.0s\n",
      "[CV 3/4] END C=3.111111111111111, kernel=linear;, score=0.972 total time=   0.0s\n",
      "[CV 2/4] END .......C=10, gamma=0.2, kernel=rbf;, score=0.897 total time=   0.0s\n",
      "[CV 3/4] END .................C=10, kernel=poly;, score=0.925 total time=   0.0s\n",
      "[CV 4/4] END .................C=10, kernel=poly;, score=0.962 total time=   0.0s\n",
      "[CV 4/4] END .......C=10, gamma=0.2, kernel=rbf;, score=0.953 total time=   0.0s\n",
      "[CV 1/4] END C=5.222222222222222, kernel=linear;, score=0.991 total time=   0.0s\n",
      "[CV 4/4] END C=5.222222222222222, kernel=linear;, score=0.981 total time=   0.0s\n",
      "[CV 3/4] END C=5.222222222222222, kernel=linear;, score=0.953 total time=   0.0s\n",
      "[CV 2/4] END C=5.222222222222222, kernel=linear;, score=0.935 total time=   0.0s\n",
      "Best accuracy :  0.985959266443308\n",
      "Best parameters : {'C': 1.0, 'kernel': 'linear'}\n",
      "              precision    recall  f1-score   support\n",
      "\n",
      "           0       0.98      0.96      0.97        90\n",
      "           1       0.93      0.96      0.94        53\n",
      "\n",
      "    accuracy                           0.96       143\n",
      "   macro avg       0.95      0.96      0.96       143\n",
      "weighted avg       0.96      0.96      0.96       143\n",
      "\n",
      "[[86  4]\n",
      " [ 2 51]]\n",
      "95.8041958041958\n"
     ]
    }
   ],
   "source": [
    "# Train an SVM (grid search)\n",
    "\n",
    "model = SVC()\n",
    "parameters = [ \n",
    "        {'kernel': ['linear'], 'C': np.linspace(1,20,10)},\n",
    "        {'kernel': ['rbf'], 'C': [1, 10], 'gamma': [0.0001, 0.001, 0.01, 0.1, 0.2]},\n",
    "        {'kernel': ['poly'], 'C':[1, 10]} ]\n",
    "grid_search = GridSearchCV(estimator = model, \n",
    "                           param_grid = parameters,\n",
    "                           scoring = 'accuracy',\n",
    "                           cv = 4,\n",
    "                           n_jobs = -1,\n",
    "                           verbose = 3)\n",
    "grid_search = grid_search.fit(X_train, y_train)\n",
    "\n",
    "best_accuracy = grid_search.best_score_ \n",
    "best_parameters = grid_search.best_params_  \n",
    "\n",
    "print('Best accuracy : ', grid_search.best_score_)\n",
    "print('Best parameters :', grid_search.best_params_  )\n",
    "\n",
    "y_pred = grid_search.predict(X_test)\n",
    "print(classification_report(y_test, y_pred))\n",
    "\n",
    "cf = confusion_matrix(y_test, y_pred)\n",
    "print(cf)\n",
    "print(accuracy_score(y_test, y_pred) * 100) \n",
    "\n",
    "\n"
   ]
  },
  {
   "cell_type": "code",
   "execution_count": 7,
   "metadata": {},
   "outputs": [
    {
     "name": "stdout",
     "output_type": "stream",
     "text": [
      "Best accuracy :  0.9624625286545583\n",
      "Best parameters : {'C': 12.10473875457283, 'gamma': 0.2848947169664814, 'kernel': 'linear'}\n",
      "              precision    recall  f1-score   support\n",
      "\n",
      "           0       0.96      0.98      0.97        90\n",
      "           1       0.96      0.92      0.94        53\n",
      "\n",
      "    accuracy                           0.96       143\n",
      "   macro avg       0.96      0.95      0.95       143\n",
      "weighted avg       0.96      0.96      0.96       143\n",
      "\n",
      "[[88  2]\n",
      " [ 4 49]]\n",
      "95.8041958041958\n"
     ]
    }
   ],
   "source": [
    "# Train an SVM (random search)\n",
    "\n",
    "model = SVC()\n",
    "parameters = {'kernel': ['linear','rbf','poly'],\n",
    "              'C': uniform(0.01, 100), \n",
    "              'gamma': uniform(0.001, 2)}\n",
    "\n",
    "\n",
    "n_iter_search = 40\n",
    "\n",
    "\n",
    "random_search = RandomizedSearchCV(model, param_distributions=parameters,cv=4,n_iter=n_iter_search)\n",
    "\n",
    "random_search = random_search.fit(X_train, y_train)\n",
    "\n",
    "best_accuracy = random_search.best_score_ \n",
    "best_parameters = random_search.best_params_  \n",
    "\n",
    "print('Best accuracy : ', random_search.best_score_)\n",
    "print('Best parameters :',random_search.best_params_  )\n",
    "\n",
    "y_pred = random_search.predict(X_test)\n",
    "print(classification_report(y_test, y_pred))\n",
    "\n",
    "cf = confusion_matrix(y_test, y_pred)\n",
    "print(cf)\n",
    "print(accuracy_score(y_test, y_pred) * 100) \n",
    "\n",
    "\n"
   ]
  },
  {
   "cell_type": "code",
   "execution_count": 8,
   "metadata": {},
   "outputs": [
    {
     "name": "stdout",
     "output_type": "stream",
     "text": [
      "Fitting 4 folds for each of 1 candidates, totalling 4 fits\n",
      "Fitting 4 folds for each of 1 candidates, totalling 4 fits\n",
      "Fitting 4 folds for each of 1 candidates, totalling 4 fits\n",
      "Fitting 4 folds for each of 1 candidates, totalling 4 fits\n",
      "Fitting 4 folds for each of 1 candidates, totalling 4 fits\n",
      "Fitting 4 folds for each of 1 candidates, totalling 4 fits\n",
      "Fitting 4 folds for each of 1 candidates, totalling 4 fits\n",
      "Fitting 4 folds for each of 1 candidates, totalling 4 fits\n",
      "Fitting 4 folds for each of 1 candidates, totalling 4 fits\n",
      "Fitting 4 folds for each of 1 candidates, totalling 4 fits\n",
      "Fitting 4 folds for each of 1 candidates, totalling 4 fits\n",
      "Fitting 4 folds for each of 1 candidates, totalling 4 fits\n",
      "Fitting 4 folds for each of 1 candidates, totalling 4 fits\n",
      "Fitting 4 folds for each of 1 candidates, totalling 4 fits\n",
      "Fitting 4 folds for each of 1 candidates, totalling 4 fits\n",
      "Fitting 4 folds for each of 1 candidates, totalling 4 fits\n",
      "Fitting 4 folds for each of 1 candidates, totalling 4 fits\n",
      "Fitting 4 folds for each of 1 candidates, totalling 4 fits\n",
      "Fitting 4 folds for each of 1 candidates, totalling 4 fits\n",
      "Fitting 4 folds for each of 1 candidates, totalling 4 fits\n",
      "Best accuracy :  0.9836007758772702\n",
      "Best parameters : OrderedDict({'C': 1.220685410789133, 'gamma': 1.7383464536603594, 'kernel': 'linear'})\n",
      "              precision    recall  f1-score   support\n",
      "\n",
      "           0       0.98      0.98      0.98        90\n",
      "           1       0.96      0.96      0.96        53\n",
      "\n",
      "    accuracy                           0.97       143\n",
      "   macro avg       0.97      0.97      0.97       143\n",
      "weighted avg       0.97      0.97      0.97       143\n",
      "\n",
      "[[88  2]\n",
      " [ 2 51]]\n",
      "97.2027972027972\n"
     ]
    }
   ],
   "source": [
    "# Train an SVM (Bayes optimization )\n",
    "\n",
    "model = SVC()\n",
    "parameters = {'kernel': ['linear','rbf','poly'],\n",
    "              'C': (0.01, 100,'uniform'), # \n",
    "              'gamma': (0.001, 2,'uniform')}\n",
    "\n",
    "n_iter_search = 20\n",
    "\n",
    "Bayes_search = BayesSearchCV(model,parameters,n_iter=n_iter_search,cv=4,verbose=1)\n",
    "\n",
    "\n",
    "Bayes_search.fit(X_train, y_train)\n",
    "\n",
    "best_accuracy = Bayes_search.best_score_ \n",
    "best_parameters = Bayes_search.best_params_  \n",
    "\n",
    "print('Best accuracy : ', Bayes_search.best_score_)\n",
    "print('Best parameters :',Bayes_search.best_params_  )\n",
    "\n",
    "y_pred = Bayes_search.predict(X_test)\n",
    "print(classification_report(y_test, y_pred))\n",
    "\n",
    "cf = confusion_matrix(y_test, y_pred)\n",
    "print(cf)\n",
    "print(accuracy_score(y_test, y_pred) * 100) \n",
    "\n"
   ]
  },
  {
   "cell_type": "markdown",
   "metadata": {},
   "source": [
    "# Neural Network hyperparametertuning"
   ]
  },
  {
   "cell_type": "code",
   "execution_count": 9,
   "metadata": {},
   "outputs": [
    {
     "data": {
      "text/html": [
       "<div>\n",
       "<style scoped>\n",
       "    .dataframe tbody tr th:only-of-type {\n",
       "        vertical-align: middle;\n",
       "    }\n",
       "\n",
       "    .dataframe tbody tr th {\n",
       "        vertical-align: top;\n",
       "    }\n",
       "\n",
       "    .dataframe thead th {\n",
       "        text-align: right;\n",
       "    }\n",
       "</style>\n",
       "<table border=\"1\" class=\"dataframe\">\n",
       "  <thead>\n",
       "    <tr style=\"text-align: right;\">\n",
       "      <th></th>\n",
       "      <th>id</th>\n",
       "      <th>diagnosis</th>\n",
       "      <th>radius_mean</th>\n",
       "      <th>texture_mean</th>\n",
       "      <th>perimeter_mean</th>\n",
       "      <th>area_mean</th>\n",
       "      <th>smoothness_mean</th>\n",
       "      <th>compactness_mean</th>\n",
       "      <th>concavity_mean</th>\n",
       "      <th>concave points_mean</th>\n",
       "      <th>...</th>\n",
       "      <th>texture_worst</th>\n",
       "      <th>perimeter_worst</th>\n",
       "      <th>area_worst</th>\n",
       "      <th>smoothness_worst</th>\n",
       "      <th>compactness_worst</th>\n",
       "      <th>concavity_worst</th>\n",
       "      <th>concave points_worst</th>\n",
       "      <th>symmetry_worst</th>\n",
       "      <th>fractal_dimension_worst</th>\n",
       "      <th>Unnamed: 32</th>\n",
       "    </tr>\n",
       "  </thead>\n",
       "  <tbody>\n",
       "    <tr>\n",
       "      <th>0</th>\n",
       "      <td>842302</td>\n",
       "      <td>M</td>\n",
       "      <td>17.99</td>\n",
       "      <td>10.38</td>\n",
       "      <td>122.80</td>\n",
       "      <td>1001.0</td>\n",
       "      <td>0.11840</td>\n",
       "      <td>0.27760</td>\n",
       "      <td>0.3001</td>\n",
       "      <td>0.14710</td>\n",
       "      <td>...</td>\n",
       "      <td>17.33</td>\n",
       "      <td>184.60</td>\n",
       "      <td>2019.0</td>\n",
       "      <td>0.1622</td>\n",
       "      <td>0.6656</td>\n",
       "      <td>0.7119</td>\n",
       "      <td>0.2654</td>\n",
       "      <td>0.4601</td>\n",
       "      <td>0.11890</td>\n",
       "      <td>NaN</td>\n",
       "    </tr>\n",
       "    <tr>\n",
       "      <th>1</th>\n",
       "      <td>842517</td>\n",
       "      <td>M</td>\n",
       "      <td>20.57</td>\n",
       "      <td>17.77</td>\n",
       "      <td>132.90</td>\n",
       "      <td>1326.0</td>\n",
       "      <td>0.08474</td>\n",
       "      <td>0.07864</td>\n",
       "      <td>0.0869</td>\n",
       "      <td>0.07017</td>\n",
       "      <td>...</td>\n",
       "      <td>23.41</td>\n",
       "      <td>158.80</td>\n",
       "      <td>1956.0</td>\n",
       "      <td>0.1238</td>\n",
       "      <td>0.1866</td>\n",
       "      <td>0.2416</td>\n",
       "      <td>0.1860</td>\n",
       "      <td>0.2750</td>\n",
       "      <td>0.08902</td>\n",
       "      <td>NaN</td>\n",
       "    </tr>\n",
       "    <tr>\n",
       "      <th>2</th>\n",
       "      <td>84300903</td>\n",
       "      <td>M</td>\n",
       "      <td>19.69</td>\n",
       "      <td>21.25</td>\n",
       "      <td>130.00</td>\n",
       "      <td>1203.0</td>\n",
       "      <td>0.10960</td>\n",
       "      <td>0.15990</td>\n",
       "      <td>0.1974</td>\n",
       "      <td>0.12790</td>\n",
       "      <td>...</td>\n",
       "      <td>25.53</td>\n",
       "      <td>152.50</td>\n",
       "      <td>1709.0</td>\n",
       "      <td>0.1444</td>\n",
       "      <td>0.4245</td>\n",
       "      <td>0.4504</td>\n",
       "      <td>0.2430</td>\n",
       "      <td>0.3613</td>\n",
       "      <td>0.08758</td>\n",
       "      <td>NaN</td>\n",
       "    </tr>\n",
       "    <tr>\n",
       "      <th>3</th>\n",
       "      <td>84348301</td>\n",
       "      <td>M</td>\n",
       "      <td>11.42</td>\n",
       "      <td>20.38</td>\n",
       "      <td>77.58</td>\n",
       "      <td>386.1</td>\n",
       "      <td>0.14250</td>\n",
       "      <td>0.28390</td>\n",
       "      <td>0.2414</td>\n",
       "      <td>0.10520</td>\n",
       "      <td>...</td>\n",
       "      <td>26.50</td>\n",
       "      <td>98.87</td>\n",
       "      <td>567.7</td>\n",
       "      <td>0.2098</td>\n",
       "      <td>0.8663</td>\n",
       "      <td>0.6869</td>\n",
       "      <td>0.2575</td>\n",
       "      <td>0.6638</td>\n",
       "      <td>0.17300</td>\n",
       "      <td>NaN</td>\n",
       "    </tr>\n",
       "    <tr>\n",
       "      <th>4</th>\n",
       "      <td>84358402</td>\n",
       "      <td>M</td>\n",
       "      <td>20.29</td>\n",
       "      <td>14.34</td>\n",
       "      <td>135.10</td>\n",
       "      <td>1297.0</td>\n",
       "      <td>0.10030</td>\n",
       "      <td>0.13280</td>\n",
       "      <td>0.1980</td>\n",
       "      <td>0.10430</td>\n",
       "      <td>...</td>\n",
       "      <td>16.67</td>\n",
       "      <td>152.20</td>\n",
       "      <td>1575.0</td>\n",
       "      <td>0.1374</td>\n",
       "      <td>0.2050</td>\n",
       "      <td>0.4000</td>\n",
       "      <td>0.1625</td>\n",
       "      <td>0.2364</td>\n",
       "      <td>0.07678</td>\n",
       "      <td>NaN</td>\n",
       "    </tr>\n",
       "  </tbody>\n",
       "</table>\n",
       "<p>5 rows × 33 columns</p>\n",
       "</div>"
      ],
      "text/plain": [
       "         id diagnosis  radius_mean  texture_mean  perimeter_mean  area_mean  \\\n",
       "0    842302         M        17.99         10.38          122.80     1001.0   \n",
       "1    842517         M        20.57         17.77          132.90     1326.0   \n",
       "2  84300903         M        19.69         21.25          130.00     1203.0   \n",
       "3  84348301         M        11.42         20.38           77.58      386.1   \n",
       "4  84358402         M        20.29         14.34          135.10     1297.0   \n",
       "\n",
       "   smoothness_mean  compactness_mean  concavity_mean  concave points_mean  \\\n",
       "0          0.11840           0.27760          0.3001              0.14710   \n",
       "1          0.08474           0.07864          0.0869              0.07017   \n",
       "2          0.10960           0.15990          0.1974              0.12790   \n",
       "3          0.14250           0.28390          0.2414              0.10520   \n",
       "4          0.10030           0.13280          0.1980              0.10430   \n",
       "\n",
       "   ...  texture_worst  perimeter_worst  area_worst  smoothness_worst  \\\n",
       "0  ...          17.33           184.60      2019.0            0.1622   \n",
       "1  ...          23.41           158.80      1956.0            0.1238   \n",
       "2  ...          25.53           152.50      1709.0            0.1444   \n",
       "3  ...          26.50            98.87       567.7            0.2098   \n",
       "4  ...          16.67           152.20      1575.0            0.1374   \n",
       "\n",
       "   compactness_worst  concavity_worst  concave points_worst  symmetry_worst  \\\n",
       "0             0.6656           0.7119                0.2654          0.4601   \n",
       "1             0.1866           0.2416                0.1860          0.2750   \n",
       "2             0.4245           0.4504                0.2430          0.3613   \n",
       "3             0.8663           0.6869                0.2575          0.6638   \n",
       "4             0.2050           0.4000                0.1625          0.2364   \n",
       "\n",
       "   fractal_dimension_worst  Unnamed: 32  \n",
       "0                  0.11890          NaN  \n",
       "1                  0.08902          NaN  \n",
       "2                  0.08758          NaN  \n",
       "3                  0.17300          NaN  \n",
       "4                  0.07678          NaN  \n",
       "\n",
       "[5 rows x 33 columns]"
      ]
     },
     "execution_count": 9,
     "metadata": {},
     "output_type": "execute_result"
    }
   ],
   "source": [
    "# Import dataset\n",
    "dataset = pd.read_csv('cancer.csv')\n",
    "dataset.head()"
   ]
  },
  {
   "cell_type": "code",
   "execution_count": 10,
   "metadata": {},
   "outputs": [
    {
     "name": "stderr",
     "output_type": "stream",
     "text": [
      "/var/folders/0r/s3s7wy7x0z33qbtj01kxq24w0000gn/T/ipykernel_63094/4164977983.py:8: FutureWarning: A value is trying to be set on a copy of a DataFrame or Series through chained assignment using an inplace method.\n",
      "The behavior will change in pandas 3.0. This inplace method will never work because the intermediate object on which we are setting values always behaves as a copy.\n",
      "\n",
      "For example, when doing 'df[col].method(value, inplace=True)', try using 'df.method({col: value}, inplace=True)' or df[col] = df[col].method(value) instead, to perform the operation inplace on the original object.\n",
      "\n",
      "\n",
      "  dataset.diagnosis.replace(['M', 'B'], [1, 0], inplace=True)\n",
      "/var/folders/0r/s3s7wy7x0z33qbtj01kxq24w0000gn/T/ipykernel_63094/4164977983.py:8: FutureWarning: Downcasting behavior in `replace` is deprecated and will be removed in a future version. To retain the old behavior, explicitly call `result.infer_objects(copy=False)`. To opt-in to the future behavior, set `pd.set_option('future.no_silent_downcasting', True)`\n",
      "  dataset.diagnosis.replace(['M', 'B'], [1, 0], inplace=True)\n"
     ]
    }
   ],
   "source": [
    "# Data preprocessing\n",
    "dataset.drop('id',axis=1, inplace=True)\n",
    "\n",
    "# Remove right column (unnamed)\n",
    "dataset.drop(dataset.columns[31],axis=1,inplace=True)\n",
    "\n",
    "# diagnosis labels M -> 1 and B -> 0\n",
    "dataset.diagnosis.replace(['M', 'B'], [1, 0], inplace=True)\n",
    "\n",
    "\n",
    "# Split dataset up in features and targets\n",
    "y = dataset.diagnosis\n",
    "X = dataset.drop('diagnosis',axis=1)\n",
    "\n"
   ]
  },
  {
   "cell_type": "code",
   "execution_count": 11,
   "metadata": {},
   "outputs": [],
   "source": [
    "# Create training set and test set\n",
    "X_train, X_test, y_train, y_test = train_test_split(X, y, test_size = 0.25, random_state =0)\n",
    "\n",
    "# Convert to numpy array\n",
    "X_train = X_train.values\n",
    "X_test = X_test.values\n",
    "\n",
    "# One-hot encoding of the targets\n",
    "y_train = to_categorical(y_train)\n",
    "\n",
    "# Feature normalization\n",
    "# via robustscaler: This Scaler removes the median and scales the data according to the quantile range \n",
    "\n",
    "Rscaler = RobustScaler()\n",
    "Rscaler.fit(X_train)\n",
    "\n",
    "X_train = Rscaler.transform(X_train)\n",
    "X_test = Rscaler. transform(X_test)"
   ]
  },
  {
   "cell_type": "code",
   "execution_count": 12,
   "metadata": {},
   "outputs": [],
   "source": [
    "def create_model(optimizer='adam',activation = 'relu',dropout_rate = 0.0, kernel_initializer='uniform',neurons = 10):\n",
    "    model = Sequential()\n",
    "    model.add(Dense(neurons, input_dim=X_train.shape[1], kernel_initializer=kernel_initializer,activation=\"relu\"))\n",
    "    model.add(Dropout(dropout_rate))\n",
    "    model.add(BatchNormalization())\n",
    "    model.add(Dense(neurons, kernel_initializer=kernel_initializer,activation='relu'))\n",
    "    model.add(Dropout(dropout_rate))\n",
    "    model.add(BatchNormalization())\n",
    "    model.add(Dense(neurons, kernel_initializer=kernel_initializer,activation='relu'))\n",
    "    model.add(Dropout(dropout_rate))\n",
    "    model.add(BatchNormalization())\n",
    "    model.add(Dense(2, activation='softmax'))\n",
    "\n",
    "    model.compile(loss=keras.losses.categorical_crossentropy,optimizer=optimizer,metrics=['accuracy']) \n",
    "    return model"
   ]
  },
  {
   "cell_type": "code",
   "execution_count": 13,
   "metadata": {},
   "outputs": [
    {
     "name": "stdout",
     "output_type": "stream",
     "text": [
      "dict_keys(['cv', 'error_score', 'estimator__model', 'estimator__build_fn', 'estimator__warm_start', 'estimator__random_state', 'estimator__optimizer', 'estimator__loss', 'estimator__metrics', 'estimator__batch_size', 'estimator__validation_batch_size', 'estimator__verbose', 'estimator__callbacks', 'estimator__validation_split', 'estimator__shuffle', 'estimator__run_eagerly', 'estimator__epochs', 'estimator__class_weight', 'estimator', 'n_jobs', 'param_grid', 'pre_dispatch', 'refit', 'return_train_score', 'scoring', 'verbose'])\n"
     ]
    }
   ],
   "source": [
    "from scikeras.wrappers import KerasClassifier\n",
    "from sklearn.model_selection import GridSearchCV\n",
    "\n",
    "# Define the model\n",
    "model = KerasClassifier(build_fn=create_model, batch_size=32, epochs=10)\n",
    "\n",
    "# Define the parameter grid\n",
    "param_grid = {\n",
    "    'batch_size': [16, 32],\n",
    "    'epochs': [10, 20],\n",
    "    'optimizer': ['Adam', 'SGD']\n",
    "}\n",
    "\n",
    "# Create the GridSearchCV object\n",
    "grid = GridSearchCV(estimator=model, param_grid=param_grid, cv=3, verbose=3)\n",
    "\n",
    "# Retrieve the parameter keys\n",
    "print(grid.get_params().keys())"
   ]
  },
  {
   "cell_type": "code",
   "execution_count": 21,
   "metadata": {},
   "outputs": [
    {
     "name": "stdout",
     "output_type": "stream",
     "text": [
      "Fitting 3 folds for each of 8 candidates, totalling 24 fits\n"
     ]
    },
    {
     "name": "stderr",
     "output_type": "stream",
     "text": [
      "/opt/anaconda3/lib/python3.12/site-packages/keras/src/layers/core/dense.py:87: UserWarning: Do not pass an `input_shape`/`input_dim` argument to a layer. When using Sequential models, prefer using an `Input(shape)` object as the first layer in the model instead.\n",
      "  super().__init__(activity_regularizer=activity_regularizer, **kwargs)\n"
     ]
    },
    {
     "name": "stdout",
     "output_type": "stream",
     "text": [
      "[CV 1/3] END batch_size=8, epochs=10, model__activation=relu, model__optimizer=SGD;, score=0.979 total time=   0.5s\n"
     ]
    },
    {
     "name": "stderr",
     "output_type": "stream",
     "text": [
      "/opt/anaconda3/lib/python3.12/site-packages/keras/src/layers/core/dense.py:87: UserWarning: Do not pass an `input_shape`/`input_dim` argument to a layer. When using Sequential models, prefer using an `Input(shape)` object as the first layer in the model instead.\n",
      "  super().__init__(activity_regularizer=activity_regularizer, **kwargs)\n"
     ]
    },
    {
     "name": "stdout",
     "output_type": "stream",
     "text": [
      "[CV 2/3] END batch_size=8, epochs=10, model__activation=relu, model__optimizer=SGD;, score=0.965 total time=   0.5s\n"
     ]
    },
    {
     "name": "stderr",
     "output_type": "stream",
     "text": [
      "/opt/anaconda3/lib/python3.12/site-packages/keras/src/layers/core/dense.py:87: UserWarning: Do not pass an `input_shape`/`input_dim` argument to a layer. When using Sequential models, prefer using an `Input(shape)` object as the first layer in the model instead.\n",
      "  super().__init__(activity_regularizer=activity_regularizer, **kwargs)\n"
     ]
    },
    {
     "name": "stdout",
     "output_type": "stream",
     "text": [
      "[CV 3/3] END batch_size=8, epochs=10, model__activation=relu, model__optimizer=SGD;, score=0.965 total time=   0.6s\n"
     ]
    },
    {
     "name": "stderr",
     "output_type": "stream",
     "text": [
      "/opt/anaconda3/lib/python3.12/site-packages/keras/src/layers/core/dense.py:87: UserWarning: Do not pass an `input_shape`/`input_dim` argument to a layer. When using Sequential models, prefer using an `Input(shape)` object as the first layer in the model instead.\n",
      "  super().__init__(activity_regularizer=activity_regularizer, **kwargs)\n"
     ]
    },
    {
     "name": "stdout",
     "output_type": "stream",
     "text": [
      "[CV 1/3] END batch_size=8, epochs=10, model__activation=relu, model__optimizer=adam;, score=0.979 total time=   0.6s\n"
     ]
    },
    {
     "name": "stderr",
     "output_type": "stream",
     "text": [
      "/opt/anaconda3/lib/python3.12/site-packages/keras/src/layers/core/dense.py:87: UserWarning: Do not pass an `input_shape`/`input_dim` argument to a layer. When using Sequential models, prefer using an `Input(shape)` object as the first layer in the model instead.\n",
      "  super().__init__(activity_regularizer=activity_regularizer, **kwargs)\n"
     ]
    },
    {
     "name": "stdout",
     "output_type": "stream",
     "text": [
      "[CV 2/3] END batch_size=8, epochs=10, model__activation=relu, model__optimizer=adam;, score=0.972 total time=   0.6s\n"
     ]
    },
    {
     "name": "stderr",
     "output_type": "stream",
     "text": [
      "/opt/anaconda3/lib/python3.12/site-packages/keras/src/layers/core/dense.py:87: UserWarning: Do not pass an `input_shape`/`input_dim` argument to a layer. When using Sequential models, prefer using an `Input(shape)` object as the first layer in the model instead.\n",
      "  super().__init__(activity_regularizer=activity_regularizer, **kwargs)\n"
     ]
    },
    {
     "name": "stdout",
     "output_type": "stream",
     "text": [
      "[CV 3/3] END batch_size=8, epochs=10, model__activation=relu, model__optimizer=adam;, score=0.972 total time=   0.6s\n"
     ]
    },
    {
     "name": "stderr",
     "output_type": "stream",
     "text": [
      "/opt/anaconda3/lib/python3.12/site-packages/keras/src/layers/core/dense.py:87: UserWarning: Do not pass an `input_shape`/`input_dim` argument to a layer. When using Sequential models, prefer using an `Input(shape)` object as the first layer in the model instead.\n",
      "  super().__init__(activity_regularizer=activity_regularizer, **kwargs)\n"
     ]
    },
    {
     "name": "stdout",
     "output_type": "stream",
     "text": [
      "[CV 1/3] END batch_size=8, epochs=10, model__activation=tanh, model__optimizer=SGD;, score=0.979 total time=   0.5s\n"
     ]
    },
    {
     "name": "stderr",
     "output_type": "stream",
     "text": [
      "/opt/anaconda3/lib/python3.12/site-packages/keras/src/layers/core/dense.py:87: UserWarning: Do not pass an `input_shape`/`input_dim` argument to a layer. When using Sequential models, prefer using an `Input(shape)` object as the first layer in the model instead.\n",
      "  super().__init__(activity_regularizer=activity_regularizer, **kwargs)\n"
     ]
    },
    {
     "name": "stdout",
     "output_type": "stream",
     "text": [
      "[CV 2/3] END batch_size=8, epochs=10, model__activation=tanh, model__optimizer=SGD;, score=0.951 total time=   0.5s\n"
     ]
    },
    {
     "name": "stderr",
     "output_type": "stream",
     "text": [
      "/opt/anaconda3/lib/python3.12/site-packages/keras/src/layers/core/dense.py:87: UserWarning: Do not pass an `input_shape`/`input_dim` argument to a layer. When using Sequential models, prefer using an `Input(shape)` object as the first layer in the model instead.\n",
      "  super().__init__(activity_regularizer=activity_regularizer, **kwargs)\n"
     ]
    },
    {
     "name": "stdout",
     "output_type": "stream",
     "text": [
      "[CV 3/3] END batch_size=8, epochs=10, model__activation=tanh, model__optimizer=SGD;, score=0.979 total time=   0.5s\n"
     ]
    },
    {
     "name": "stderr",
     "output_type": "stream",
     "text": [
      "/opt/anaconda3/lib/python3.12/site-packages/keras/src/layers/core/dense.py:87: UserWarning: Do not pass an `input_shape`/`input_dim` argument to a layer. When using Sequential models, prefer using an `Input(shape)` object as the first layer in the model instead.\n",
      "  super().__init__(activity_regularizer=activity_regularizer, **kwargs)\n"
     ]
    },
    {
     "name": "stdout",
     "output_type": "stream",
     "text": [
      "[CV 1/3] END batch_size=8, epochs=10, model__activation=tanh, model__optimizer=adam;, score=0.979 total time=   0.6s\n"
     ]
    },
    {
     "name": "stderr",
     "output_type": "stream",
     "text": [
      "/opt/anaconda3/lib/python3.12/site-packages/keras/src/layers/core/dense.py:87: UserWarning: Do not pass an `input_shape`/`input_dim` argument to a layer. When using Sequential models, prefer using an `Input(shape)` object as the first layer in the model instead.\n",
      "  super().__init__(activity_regularizer=activity_regularizer, **kwargs)\n"
     ]
    },
    {
     "name": "stdout",
     "output_type": "stream",
     "text": [
      "[CV 2/3] END batch_size=8, epochs=10, model__activation=tanh, model__optimizer=adam;, score=0.965 total time=   0.6s\n"
     ]
    },
    {
     "name": "stderr",
     "output_type": "stream",
     "text": [
      "/opt/anaconda3/lib/python3.12/site-packages/keras/src/layers/core/dense.py:87: UserWarning: Do not pass an `input_shape`/`input_dim` argument to a layer. When using Sequential models, prefer using an `Input(shape)` object as the first layer in the model instead.\n",
      "  super().__init__(activity_regularizer=activity_regularizer, **kwargs)\n"
     ]
    },
    {
     "name": "stdout",
     "output_type": "stream",
     "text": [
      "[CV 3/3] END batch_size=8, epochs=10, model__activation=tanh, model__optimizer=adam;, score=0.986 total time=   0.8s\n"
     ]
    },
    {
     "name": "stderr",
     "output_type": "stream",
     "text": [
      "/opt/anaconda3/lib/python3.12/site-packages/keras/src/layers/core/dense.py:87: UserWarning: Do not pass an `input_shape`/`input_dim` argument to a layer. When using Sequential models, prefer using an `Input(shape)` object as the first layer in the model instead.\n",
      "  super().__init__(activity_regularizer=activity_regularizer, **kwargs)\n"
     ]
    },
    {
     "name": "stdout",
     "output_type": "stream",
     "text": [
      "[CV 1/3] END batch_size=16, epochs=10, model__activation=relu, model__optimizer=SGD;, score=0.979 total time=   0.5s\n"
     ]
    },
    {
     "name": "stderr",
     "output_type": "stream",
     "text": [
      "/opt/anaconda3/lib/python3.12/site-packages/keras/src/layers/core/dense.py:87: UserWarning: Do not pass an `input_shape`/`input_dim` argument to a layer. When using Sequential models, prefer using an `Input(shape)` object as the first layer in the model instead.\n",
      "  super().__init__(activity_regularizer=activity_regularizer, **kwargs)\n"
     ]
    },
    {
     "name": "stdout",
     "output_type": "stream",
     "text": [
      "[CV 2/3] END batch_size=16, epochs=10, model__activation=relu, model__optimizer=SGD;, score=0.972 total time=   0.4s\n"
     ]
    },
    {
     "name": "stderr",
     "output_type": "stream",
     "text": [
      "/opt/anaconda3/lib/python3.12/site-packages/keras/src/layers/core/dense.py:87: UserWarning: Do not pass an `input_shape`/`input_dim` argument to a layer. When using Sequential models, prefer using an `Input(shape)` object as the first layer in the model instead.\n",
      "  super().__init__(activity_regularizer=activity_regularizer, **kwargs)\n"
     ]
    },
    {
     "name": "stdout",
     "output_type": "stream",
     "text": [
      "[CV 3/3] END batch_size=16, epochs=10, model__activation=relu, model__optimizer=SGD;, score=0.972 total time=   0.4s\n"
     ]
    },
    {
     "name": "stderr",
     "output_type": "stream",
     "text": [
      "/opt/anaconda3/lib/python3.12/site-packages/keras/src/layers/core/dense.py:87: UserWarning: Do not pass an `input_shape`/`input_dim` argument to a layer. When using Sequential models, prefer using an `Input(shape)` object as the first layer in the model instead.\n",
      "  super().__init__(activity_regularizer=activity_regularizer, **kwargs)\n"
     ]
    },
    {
     "name": "stdout",
     "output_type": "stream",
     "text": [
      "[CV 1/3] END batch_size=16, epochs=10, model__activation=relu, model__optimizer=adam;, score=0.972 total time=   0.5s\n"
     ]
    },
    {
     "name": "stderr",
     "output_type": "stream",
     "text": [
      "/opt/anaconda3/lib/python3.12/site-packages/keras/src/layers/core/dense.py:87: UserWarning: Do not pass an `input_shape`/`input_dim` argument to a layer. When using Sequential models, prefer using an `Input(shape)` object as the first layer in the model instead.\n",
      "  super().__init__(activity_regularizer=activity_regularizer, **kwargs)\n"
     ]
    },
    {
     "name": "stdout",
     "output_type": "stream",
     "text": [
      "[CV 2/3] END batch_size=16, epochs=10, model__activation=relu, model__optimizer=adam;, score=0.958 total time=   0.6s\n"
     ]
    },
    {
     "name": "stderr",
     "output_type": "stream",
     "text": [
      "/opt/anaconda3/lib/python3.12/site-packages/keras/src/layers/core/dense.py:87: UserWarning: Do not pass an `input_shape`/`input_dim` argument to a layer. When using Sequential models, prefer using an `Input(shape)` object as the first layer in the model instead.\n",
      "  super().__init__(activity_regularizer=activity_regularizer, **kwargs)\n"
     ]
    },
    {
     "name": "stdout",
     "output_type": "stream",
     "text": [
      "[CV 3/3] END batch_size=16, epochs=10, model__activation=relu, model__optimizer=adam;, score=0.972 total time=   0.5s\n"
     ]
    },
    {
     "name": "stderr",
     "output_type": "stream",
     "text": [
      "/opt/anaconda3/lib/python3.12/site-packages/keras/src/layers/core/dense.py:87: UserWarning: Do not pass an `input_shape`/`input_dim` argument to a layer. When using Sequential models, prefer using an `Input(shape)` object as the first layer in the model instead.\n",
      "  super().__init__(activity_regularizer=activity_regularizer, **kwargs)\n"
     ]
    },
    {
     "name": "stdout",
     "output_type": "stream",
     "text": [
      "[CV 1/3] END batch_size=16, epochs=10, model__activation=tanh, model__optimizer=SGD;, score=0.979 total time=   0.4s\n"
     ]
    },
    {
     "name": "stderr",
     "output_type": "stream",
     "text": [
      "/opt/anaconda3/lib/python3.12/site-packages/keras/src/layers/core/dense.py:87: UserWarning: Do not pass an `input_shape`/`input_dim` argument to a layer. When using Sequential models, prefer using an `Input(shape)` object as the first layer in the model instead.\n",
      "  super().__init__(activity_regularizer=activity_regularizer, **kwargs)\n"
     ]
    },
    {
     "name": "stdout",
     "output_type": "stream",
     "text": [
      "[CV 2/3] END batch_size=16, epochs=10, model__activation=tanh, model__optimizer=SGD;, score=0.972 total time=   0.5s\n"
     ]
    },
    {
     "name": "stderr",
     "output_type": "stream",
     "text": [
      "/opt/anaconda3/lib/python3.12/site-packages/keras/src/layers/core/dense.py:87: UserWarning: Do not pass an `input_shape`/`input_dim` argument to a layer. When using Sequential models, prefer using an `Input(shape)` object as the first layer in the model instead.\n",
      "  super().__init__(activity_regularizer=activity_regularizer, **kwargs)\n"
     ]
    },
    {
     "name": "stdout",
     "output_type": "stream",
     "text": [
      "[CV 3/3] END batch_size=16, epochs=10, model__activation=tanh, model__optimizer=SGD;, score=0.972 total time=   0.4s\n"
     ]
    },
    {
     "name": "stderr",
     "output_type": "stream",
     "text": [
      "/opt/anaconda3/lib/python3.12/site-packages/keras/src/layers/core/dense.py:87: UserWarning: Do not pass an `input_shape`/`input_dim` argument to a layer. When using Sequential models, prefer using an `Input(shape)` object as the first layer in the model instead.\n",
      "  super().__init__(activity_regularizer=activity_regularizer, **kwargs)\n"
     ]
    },
    {
     "name": "stdout",
     "output_type": "stream",
     "text": [
      "[CV 1/3] END batch_size=16, epochs=10, model__activation=tanh, model__optimizer=adam;, score=0.979 total time=   0.5s\n"
     ]
    },
    {
     "name": "stderr",
     "output_type": "stream",
     "text": [
      "/opt/anaconda3/lib/python3.12/site-packages/keras/src/layers/core/dense.py:87: UserWarning: Do not pass an `input_shape`/`input_dim` argument to a layer. When using Sequential models, prefer using an `Input(shape)` object as the first layer in the model instead.\n",
      "  super().__init__(activity_regularizer=activity_regularizer, **kwargs)\n"
     ]
    },
    {
     "name": "stdout",
     "output_type": "stream",
     "text": [
      "[CV 2/3] END batch_size=16, epochs=10, model__activation=tanh, model__optimizer=adam;, score=0.951 total time=   0.5s\n"
     ]
    },
    {
     "name": "stderr",
     "output_type": "stream",
     "text": [
      "/opt/anaconda3/lib/python3.12/site-packages/keras/src/layers/core/dense.py:87: UserWarning: Do not pass an `input_shape`/`input_dim` argument to a layer. When using Sequential models, prefer using an `Input(shape)` object as the first layer in the model instead.\n",
      "  super().__init__(activity_regularizer=activity_regularizer, **kwargs)\n"
     ]
    },
    {
     "name": "stdout",
     "output_type": "stream",
     "text": [
      "[CV 3/3] END batch_size=16, epochs=10, model__activation=tanh, model__optimizer=adam;, score=0.986 total time=   0.5s\n"
     ]
    },
    {
     "name": "stderr",
     "output_type": "stream",
     "text": [
      "/opt/anaconda3/lib/python3.12/site-packages/keras/src/layers/core/dense.py:87: UserWarning: Do not pass an `input_shape`/`input_dim` argument to a layer. When using Sequential models, prefer using an `Input(shape)` object as the first layer in the model instead.\n",
      "  super().__init__(activity_regularizer=activity_regularizer, **kwargs)\n"
     ]
    },
    {
     "name": "stdout",
     "output_type": "stream",
     "text": [
      "Best Parameters: {'batch_size': 8, 'epochs': 10, 'model__activation': 'tanh', 'model__optimizer': 'adam'}\n",
      "Best Score: 0.9765258215962441\n"
     ]
    }
   ],
   "source": [
    "import tensorflow as tf\n",
    "from scikeras.wrappers import KerasClassifier\n",
    "from sklearn.model_selection import GridSearchCV\n",
    "\n",
    "def create_model(optimizer=\"adam\", activation=\"relu\"):\n",
    "    model = tf.keras.Sequential([\n",
    "        tf.keras.layers.Dense(64, activation=activation, input_shape=(X_train.shape[1],)),\n",
    "        tf.keras.layers.Dense(2, activation=\"softmax\")  # 2 classes, one-hot targets\n",
    "    ])\n",
    "    model.compile(optimizer=optimizer,\n",
    "                  loss=\"categorical_crossentropy\",\n",
    "                  metrics=[\"accuracy\"])\n",
    "    return model\n",
    "\n",
    "clf = KerasClassifier(model=create_model, verbose=0)\n",
    "\n",
    "param_grid = {\n",
    "    \"batch_size\": [8, 16],\n",
    "    \"epochs\": [10],\n",
    "    \"model__optimizer\": [\"SGD\", \"adam\"],\n",
    "    \"model__activation\": [\"relu\", \"tanh\"],\n",
    "}\n",
    "\n",
    "grid = GridSearchCV(estimator=clf, param_grid=param_grid, cv=3, verbose=3, error_score=\"raise\")\n",
    "grid_result = grid.fit(X_train, y_train)  # y_train is one-hot (n,2)\n",
    "\n",
    "print(\"Best Parameters:\", grid_result.best_params_)\n",
    "print(\"Best Score:\", grid_result.best_score_)\n"
   ]
  },
  {
   "cell_type": "code",
   "execution_count": 22,
   "metadata": {},
   "outputs": [
    {
     "name": "stdout",
     "output_type": "stream",
     "text": [
      "Best: 0.976526 using {'batch_size': 8, 'epochs': 10, 'model__activation': 'tanh', 'model__optimizer': 'adam'}\n",
      "0.969484 (0.006640) with: {'batch_size': 8, 'epochs': 10, 'model__activation': 'relu', 'model__optimizer': 'SGD'}\n",
      "0.974178 (0.003320) with: {'batch_size': 8, 'epochs': 10, 'model__activation': 'relu', 'model__optimizer': 'adam'}\n",
      "0.969484 (0.013279) with: {'batch_size': 8, 'epochs': 10, 'model__activation': 'tanh', 'model__optimizer': 'SGD'}\n",
      "0.976526 (0.008783) with: {'batch_size': 8, 'epochs': 10, 'model__activation': 'tanh', 'model__optimizer': 'adam'}\n",
      "0.974178 (0.003320) with: {'batch_size': 16, 'epochs': 10, 'model__activation': 'relu', 'model__optimizer': 'SGD'}\n",
      "0.967136 (0.006640) with: {'batch_size': 16, 'epochs': 10, 'model__activation': 'relu', 'model__optimizer': 'adam'}\n",
      "0.974178 (0.003320) with: {'batch_size': 16, 'epochs': 10, 'model__activation': 'tanh', 'model__optimizer': 'SGD'}\n",
      "0.971831 (0.015213) with: {'batch_size': 16, 'epochs': 10, 'model__activation': 'tanh', 'model__optimizer': 'adam'}\n"
     ]
    }
   ],
   "source": [
    "print(\"Best: %f using %s\" % (grid_result.best_score_, grid_result.best_params_))\n",
    "means = grid_result.cv_results_['mean_test_score']\n",
    "stds = grid_result.cv_results_['std_test_score']\n",
    "params = grid_result.cv_results_['params']\n",
    "for mean, stdev, param in zip(means, stds, params):\n",
    "    print(\"%f (%f) with: %r\" % (mean, stdev, param))"
   ]
  },
  {
   "cell_type": "code",
   "execution_count": null,
   "metadata": {},
   "outputs": [],
   "source": []
  }
 ],
 "metadata": {
  "kernelspec": {
   "display_name": "Python 3",
   "language": "python",
   "name": "python3"
  },
  "language_info": {
   "codemirror_mode": {
    "name": "ipython",
    "version": 3
   },
   "file_extension": ".py",
   "mimetype": "text/x-python",
   "name": "python",
   "nbconvert_exporter": "python",
   "pygments_lexer": "ipython3",
   "version": "3.12.7"
  }
 },
 "nbformat": 4,
 "nbformat_minor": 4
}
