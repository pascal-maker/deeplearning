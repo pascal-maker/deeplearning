{
 "cells": [
  {
   "cell_type": "code",
   "execution_count": 1,
   "metadata": {},
   "outputs": [],
   "source": [
    "# Enable inline plotting in Jupyter notebook\n",
    "%matplotlib inline\n",
    "# Import numerical computing library\n",
    "import numpy as np\n",
    "# Import image processing functions\n",
    "from scipy import ndimage\n",
    "# Import signal processing functions (including convolution)\n",
    "from scipy import signal\n",
    "# Import plotting library\n",
    "import matplotlib.pyplot as plt"
   ]
  },
  {
   "cell_type": "code",
   "execution_count": 2,
   "metadata": {},
   "outputs": [
    {
     "name": "stdout",
     "output_type": "stream",
     "text": [
      "Image shape: (473, 784, 3)\n",
      "Image data type: float32\n",
      "Pixel value range: 0.0 to 1.0\n"
     ]
    }
   ],
   "source": [
    "# Load an image file named 'Tesla.png' into a numpy array\n",
    "# The image is stored in RGB format with shape (height, width, 3)\n",
    "I = plt.imread('Tesla.png')\n",
    "\n",
    "# Print the shape and data type of the loaded image\n",
    "print(f\"Image shape: {I.shape}\")\n",
    "print(f\"Image data type: {I.dtype}\")\n",
    "print(f\"Pixel value range: {I.min()} to {I.max()}\")"
   ]
  },
  {
   "cell_type": "code",
   "execution_count": 3,
   "metadata": {},
   "outputs": [
    {
     "data": {
      "text/plain": [
       "<matplotlib.colorbar.Colorbar at 0x300732f90>"
      ]
     },
     "execution_count": 3,
     "metadata": {},
     "output_type": "execute_result"
    }
   ],
   "source": [
    "# Create a figure with a specific size (16x9 inches) for better visualization\n",
    "fig = plt.figure(figsize=(16,9))\n",
    "# Display the original color image\n",
    "plt.imshow(I)\n",
    "# Add a title to the plot\n",
    "plt.title('Original Color Image')\n",
    "# Add axis labels\n",
    "plt.xlabel('Width (pixels)')\n",
    "plt.ylabel('Height (pixels)')\n",
    "# Show the colorbar to understand pixel intensity values\n",
    "plt.colorbar(label='Pixel Intensity')"
   ]
  },
  {
   "cell_type": "code",
   "execution_count": 4,
   "metadata": {},
   "outputs": [
    {
     "data": {
      "text/plain": [
       "(-0.5, 783.5, 472.5, -0.5)"
      ]
     },
     "execution_count": 4,
     "metadata": {},
     "output_type": "execute_result"
    }
   ],
   "source": [
    "# Convert RGB image to grayscale using the standard luminance formula\n",
    "def rgb2gray(rgb):\n",
    "    \"\"\"\n",
    "    Convert an RGB image to grayscale using the standard luminance formula.\n",
    "    The weights (0.2989, 0.5870, 0.1140) approximate human perception of color brightness.\n",
    "    \"\"\"\n",
    "    # Extract RGB channels\n",
    "    r, g, b = rgb[:,:,0], rgb[:,:,1], rgb[:,:,2]\n",
    "    # Apply luminance formula: 0.2989*R + 0.5870*G + 0.1140*B\n",
    "    gray = 0.2989 * r + 0.5870 * g + 0.1140 * b\n",
    "    return gray\n",
    "\n",
    "# Convert the loaded image to grayscale\n",
    "Ig = rgb2gray(I)\n",
    "\n",
    "# Display the grayscale image with a grayscale colormap\n",
    "fig = plt.figure(figsize=(16,9))\n",
    "plt.imshow(Ig, cmap=plt.cm.gray)\n",
    "plt.title('Grayscale Image')\n",
    "plt.axis('off')  # Hide axis for better visualization"
   ]
  },
  {
   "cell_type": "code",
   "execution_count": 5,
   "metadata": {},
   "outputs": [],
   "source": [
    "# Define a convolution kernel (filter)\n",
    "# This is a Sobel kernel for edge detection in the horizontal direction\n",
    "# It highlights vertical edges in the image\n",
    "k = np.array([\n",
    "    [ 1,  2,  1],  # Weights for the top row of the kernel\n",
    "    [ 0,  0,  0],  # Middle row (no contribution to the result)\n",
    "    [-1, -2, -1]   # Weights for the bottom row (negative to detect edges)\n",
    "])\n",
    "\n",
    "# Transpose the kernel to make it detect horizontal edges instead of vertical\n",
    "# This is equivalent to rotating the kernel 90 degrees counter-clockwise\n",
    "k = np.transpose(k)\n",
    "\n",
    "# Alternative: Uncomment to use a simple averaging filter instead\n",
    "# k = np.ones((11,11)) * (1/(11**2))  # 11x11 averaging filter"
   ]
  },
  {
   "cell_type": "code",
   "execution_count": 6,
   "metadata": {},
   "outputs": [
    {
     "name": "stdout",
     "output_type": "stream",
     "text": [
      "[[ 1  0 -1]\n",
      " [ 2  0 -2]\n",
      " [ 1  0 -1]]\n"
     ]
    }
   ],
   "source": [
    "print(k)"
   ]
  },
  {
   "cell_type": "code",
   "execution_count": 7,
   "metadata": {},
   "outputs": [
    {
     "data": {
      "text/plain": [
       "<matplotlib.colorbar.Colorbar at 0x301a5b560>"
      ]
     },
     "execution_count": 7,
     "metadata": {},
     "output_type": "execute_result"
    }
   ],
   "source": [
    "# Apply 2D convolution to the grayscale image using the defined kernel\n",
    "# signal.convolve2d performs a 2-dimensional convolution operation\n",
    "# The 'same' mode ensures the output has the same dimensions as the input\n",
    "If = signal.convolve2d(Ig, k, mode='same')\n",
    "\n",
    "# Create a figure for displaying the filtered image\n",
    "fig = plt.figure(figsize=(16,9))\n",
    "\n",
    "# Display the convolved image in grayscale\n",
    "# The 'gray' colormap is used to represent the filtered intensities\n",
    "plt.imshow(If, cmap=plt.cm.gray)\n",
    "\n",
    "# Add title and labels for better understanding\n",
    "plt.title('Filtered Image (Edge Detection)')\n",
    "plt.xlabel('Width (pixels)')\n",
    "plt.ylabel('Height (pixels)')\n",
    "plt.colorbar(label='Edge Strength')\n",
    "\n",
    "# The resulting image (If) will show edges where there are rapid intensity changes\n",
    "# in the direction perpendicular to the kernel's orientation"
   ]
  },
  {
   "cell_type": "code",
   "execution_count": null,
   "metadata": {},
   "outputs": [],
   "source": []
  }
 ],
 "metadata": {
  "kernelspec": {
   "display_name": "Python 3",
   "language": "python",
   "name": "python3"
  },
  "language_info": {
   "codemirror_mode": {
    "name": "ipython",
    "version": 3
   },
   "file_extension": ".py",
   "mimetype": "text/x-python",
   "name": "python",
   "nbconvert_exporter": "python",
   "pygments_lexer": "ipython3",
   "version": "3.12.7"
  }
 },
 "nbformat": 4,
 "nbformat_minor": 4
}
